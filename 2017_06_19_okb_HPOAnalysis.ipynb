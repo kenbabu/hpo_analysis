{
 "cells": [
  {
   "cell_type": "markdown",
   "metadata": {
    "deletable": true,
    "editable": true
   },
   "source": [
    "### Human Phenotype Ontology Analysis"
   ]
  },
  {
   "cell_type": "markdown",
   "metadata": {
    "deletable": true,
    "editable": true
   },
   "source": [
    "Find the similarity between terms in the HPO"
   ]
  },
  {
   "cell_type": "code",
   "execution_count": 14,
   "metadata": {
    "collapsed": true,
    "deletable": true,
    "editable": true
   },
   "outputs": [],
   "source": [
    "%matplotlib inline\n",
    "import os\n",
    "import pandas as pd\n",
    "import numpy as np\n",
    "\n",
    "import matplotlib.pyplot as plt\n",
    "import seaborn as sns\n",
    "from scipy.spatial.distance import cosine\n",
    "\n",
    "from itertools import combinations\n",
    "\n",
    "import cPickle as pickle"
   ]
  },
  {
   "cell_type": "code",
   "execution_count": 2,
   "metadata": {
    "collapsed": true,
    "deletable": true,
    "editable": true
   },
   "outputs": [],
   "source": [
    "datadir='/Users/kenneth/PhD_Data2017/HPO'"
   ]
  },
  {
   "cell_type": "code",
   "execution_count": null,
   "metadata": {
    "collapsed": true
   },
   "outputs": [],
   "source": [
    "def get_data(datadir=datadir, filename):\n",
    "    return pd.read_csv(os.path.join(datadir, filename))"
   ]
  },
  {
   "cell_type": "code",
   "execution_count": 9,
   "metadata": {
    "collapsed": false,
    "deletable": true,
    "editable": true
   },
   "outputs": [
    {
     "name": "stdout",
     "output_type": "stream",
     "text": [
      "['.DS_Store', 'ALL_SOURCES_ALL_FREQUENCIES_diseases_to_genes_to_phenotypes.txt', 'ALL_SOURCES_ALL_FREQUENCIES_genes_to_phenotype.txt', 'ALL_SOURCES_ALL_FREQUENCIES_phenotype_to_genes.txt', 'diseases_to_genes.txt', 'genes_to_diseases.txt', 'HP.csv', 'HP.csv.gz']\n"
     ]
    }
   ],
   "source": [
    "for (path, dirs, files) in os.walk(datadir):\n",
    "    print files"
   ]
  },
  {
   "cell_type": "markdown",
   "metadata": {
    "deletable": true,
    "editable": true
   },
   "source": [
    "### Create dictionaries"
   ]
  },
  {
   "cell_type": "markdown",
   "metadata": {
    "deletable": true,
    "editable": true
   },
   "source": [
    "- Create dictionary of phenotypes to genes\n",
    "- Create dictionary of genes to genes\n",
    "- Create dictionary of diseases to genes\n",
    "- Create dictionary of diseases to phenotypes"
   ]
  },
  {
   "cell_type": "code",
   "execution_count": 3,
   "metadata": {
    "collapsed": false,
    "deletable": true,
    "editable": true
   },
   "outputs": [],
   "source": [
    "dfPhenGene = pd.read_csv(os.path.join(datadir, 'ALL_SOURCES_ALL_FREQUENCIES_phenotype_to_genes.txt'), sep='\\t', skiprows=1)"
   ]
  },
  {
   "cell_type": "code",
   "execution_count": 19,
   "metadata": {
    "collapsed": false,
    "deletable": true,
    "editable": true
   },
   "outputs": [
    {
     "data": {
      "text/html": [
       "<div>\n",
       "<table border=\"1\" class=\"dataframe\">\n",
       "  <thead>\n",
       "    <tr style=\"text-align: right;\">\n",
       "      <th></th>\n",
       "      <th>HP:0001459</th>\n",
       "      <th>1-3 toe syndactyly</th>\n",
       "      <th>2737</th>\n",
       "      <th>GLI3</th>\n",
       "    </tr>\n",
       "  </thead>\n",
       "  <tbody>\n",
       "    <tr>\n",
       "      <th>0</th>\n",
       "      <td>HP:0006088</td>\n",
       "      <td>1-5 finger complete cutaneous syndactyly</td>\n",
       "      <td>64327</td>\n",
       "      <td>LMBR1</td>\n",
       "    </tr>\n",
       "    <tr>\n",
       "      <th>1</th>\n",
       "      <td>HP:0010708</td>\n",
       "      <td>1-5 finger syndactyly</td>\n",
       "      <td>6469</td>\n",
       "      <td>SHH</td>\n",
       "    </tr>\n",
       "  </tbody>\n",
       "</table>\n",
       "</div>"
      ],
      "text/plain": [
       "   HP:0001459                        1-3 toe syndactyly   2737   GLI3\n",
       "0  HP:0006088  1-5 finger complete cutaneous syndactyly  64327  LMBR1\n",
       "1  HP:0010708                     1-5 finger syndactyly   6469    SHH"
      ]
     },
     "execution_count": 19,
     "metadata": {},
     "output_type": "execute_result"
    }
   ],
   "source": []
  },
  {
   "cell_type": "code",
   "execution_count": 4,
   "metadata": {
    "collapsed": false,
    "deletable": true,
    "editable": true
   },
   "outputs": [
    {
     "data": {
      "text/plain": [
       "(374365, 4)"
      ]
     },
     "execution_count": 4,
     "metadata": {},
     "output_type": "execute_result"
    }
   ],
   "source": [
    "dfPhenGene.shape"
   ]
  },
  {
   "cell_type": "code",
   "execution_count": 5,
   "metadata": {
    "collapsed": true,
    "deletable": true,
    "editable": true
   },
   "outputs": [],
   "source": [
    "columns =['hpoid', 'hpo_name', 'gene_id', 'gene_symbol']"
   ]
  },
  {
   "cell_type": "code",
   "execution_count": 6,
   "metadata": {
    "collapsed": true,
    "deletable": true,
    "editable": true
   },
   "outputs": [],
   "source": [
    "dfPhenGene.columns=columns"
   ]
  },
  {
   "cell_type": "code",
   "execution_count": 7,
   "metadata": {
    "collapsed": false,
    "deletable": true,
    "editable": true
   },
   "outputs": [],
   "source": [
    "dfTop = dfPhenGene.head(100)"
   ]
  },
  {
   "cell_type": "code",
   "execution_count": 8,
   "metadata": {
    "collapsed": false,
    "deletable": true,
    "editable": true
   },
   "outputs": [],
   "source": [
    "dictG = {k:g['gene_id'].tolist() for k,g in  dfTop.groupby(dfTop.hpoid)}\n"
   ]
  },
  {
   "cell_type": "markdown",
   "metadata": {
    "deletable": true,
    "editable": true
   },
   "source": [
    "#### Create a dictionary of phenotypes by genes {phen: [gene1, gene2...genen]}"
   ]
  },
  {
   "cell_type": "code",
   "execution_count": 9,
   "metadata": {
    "collapsed": true,
    "deletable": true,
    "editable": true
   },
   "outputs": [],
   "source": [
    "dictPhen = {k:g['gene_id'].tolist() for k,g in  dfPhenGene.groupby(dfPhenGene.hpoid)}\n",
    "\n"
   ]
  },
  {
   "cell_type": "code",
   "execution_count": 39,
   "metadata": {
    "collapsed": false,
    "deletable": true,
    "editable": true
   },
   "outputs": [
    {
     "name": "stdout",
     "output_type": "stream",
     "text": [
      "[26229, 9469]\n",
      "\n"
     ]
    }
   ],
   "source": [
    "for k, v in dictPhen.iteritems():\n",
    "#     print k, v\n",
    "    pass\n",
    "    \n",
    "print dictPhen['HP:0006099']\n",
    "\n",
    "374365/7505\n",
    "\n",
    "# print dictPhen.keys()\n",
    "\n",
    "print "
   ]
  },
  {
   "cell_type": "markdown",
   "metadata": {
    "deletable": true,
    "editable": true
   },
   "source": [
    "#### Serialize phenotype dictionary into an object"
   ]
  },
  {
   "cell_type": "code",
   "execution_count": 15,
   "metadata": {
    "collapsed": true,
    "deletable": true,
    "editable": true
   },
   "outputs": [],
   "source": [
    "def serializeDict(mydict, myfile ):\n",
    "    with open(myfile, \"wb\") as handle:\n",
    "        pickle.dump(mydict, handle)\n"
   ]
  },
  {
   "cell_type": "code",
   "execution_count": 16,
   "metadata": {
    "collapsed": false,
    "deletable": true,
    "editable": true
   },
   "outputs": [],
   "source": [
    "serializeDict(dictPhen, \"Phenotypes_to_Genes.cpk\")"
   ]
  },
  {
   "cell_type": "code",
   "execution_count": null,
   "metadata": {
    "collapsed": false,
    "deletable": true,
    "editable": true
   },
   "outputs": [],
   "source": [
    "# %%timeit\n",
    "hpo_pairs = combinations(dictPhen.keys(), 2)\n",
    "\n",
    "for i in hpo_pairs:\n",
    "    \n"
   ]
  },
  {
   "cell_type": "code",
   "execution_count": 32,
   "metadata": {
    "collapsed": false,
    "deletable": true,
    "editable": true
   },
   "outputs": [],
   "source": [
    "# len([i for i in hpo_pairs])\n",
    "count = 0\n",
    "for i in hpo_pairs:\n",
    "    if count < 20:\n",
    "        print dictPhen[i[0]]\n",
    "#         print hpo_similarity(dictPhen[i[0]], dictPhen[i[1]])\n",
    "        count+=1"
   ]
  },
  {
   "cell_type": "code",
   "execution_count": 41,
   "metadata": {
    "collapsed": false,
    "deletable": true,
    "editable": true
   },
   "outputs": [],
   "source": [
    "sims=[hpo_similarity(dictPhen[i[0]], dictPhen[i[1]]) for i in hpo_pairs]"
   ]
  },
  {
   "cell_type": "code",
   "execution_count": 43,
   "metadata": {
    "collapsed": false
   },
   "outputs": [
    {
     "ename": "NameError",
     "evalue": "name 'sims' is not defined",
     "output_type": "error",
     "traceback": [
      "\u001b[0;31m---------------------------------------------------------------------------\u001b[0m",
      "\u001b[0;31mNameError\u001b[0m                                 Traceback (most recent call last)",
      "\u001b[0;32m<ipython-input-43-beaa0783f498>\u001b[0m in \u001b[0;36m<module>\u001b[0;34m()\u001b[0m\n\u001b[0;32m----> 1\u001b[0;31m \u001b[0mlen\u001b[0m\u001b[0;34m(\u001b[0m\u001b[0msims\u001b[0m\u001b[0;34m)\u001b[0m\u001b[0;34m\u001b[0m\u001b[0m\n\u001b[0m",
      "\u001b[0;31mNameError\u001b[0m: name 'sims' is not defined"
     ]
    }
   ],
   "source": [
    "len(sims)"
   ]
  },
  {
   "cell_type": "code",
   "execution_count": 57,
   "metadata": {
    "collapsed": false,
    "deletable": true,
    "editable": true
   },
   "outputs": [],
   "source": [
    "similarities = [hpo_similarity(dictPhen[i[0]],dictPhen[i[1]] ) for i in hpo_pairs]"
   ]
  },
  {
   "cell_type": "code",
   "execution_count": 24,
   "metadata": {
    "collapsed": false,
    "deletable": true,
    "editable": true
   },
   "outputs": [
    {
     "name": "stdout",
     "output_type": "stream",
     "text": [
      "[1, 2, 3, 4, 11] [1, 2, 3, 6, 4, 10]\n"
     ]
    }
   ],
   "source": [
    "l1=[1,2,3,4,11]\n",
    "l2=[1,2,3,6,4,10]\n",
    "\n",
    "print l1, l2\n"
   ]
  },
  {
   "cell_type": "code",
   "execution_count": 46,
   "metadata": {
    "collapsed": false
   },
   "outputs": [
    {
     "data": {
      "text/plain": [
       "array(['doid1', 'doid2', 'doid3'], \n",
       "      dtype='|S5')"
      ]
     },
     "execution_count": 46,
     "metadata": {},
     "output_type": "execute_result"
    }
   ],
   "source": [
    "lsDisease=['doid1','doid2','doid3']\n",
    "\n",
    "np.array(lsDisease)"
   ]
  },
  {
   "cell_type": "code",
   "execution_count": 47,
   "metadata": {
    "collapsed": false,
    "deletable": true,
    "editable": true
   },
   "outputs": [
    {
     "name": "stdout",
     "output_type": "stream",
     "text": [
      "0.26970325666\n"
     ]
    }
   ],
   "source": [
    "from collections import Counter\n",
    "def buildVector(ls1, ls2):\n",
    "    counter1 = Counter(ls1)\n",
    "    counter2 = Counter(ls2)\n",
    "    \n",
    "    all_items = set(counter1.keys()).union(set(counter2.keys()))\n",
    "    vector1 = [counter1[k] for k in all_items]\n",
    "    vector2 = [counter2[k] for k in all_items]\n",
    "    return  vector1, vector2\n",
    "    \n",
    "vspace = buildVector(l1, l2)\n",
    "\n",
    "print cosine(vspace[0], vspace[1])\n",
    "\n"
   ]
  },
  {
   "cell_type": "code",
   "execution_count": null,
   "metadata": {
    "collapsed": true,
    "deletable": true,
    "editable": true
   },
   "outputs": [],
   "source": [
    "\n",
    "    "
   ]
  },
  {
   "cell_type": "code",
   "execution_count": 28,
   "metadata": {
    "collapsed": false,
    "deletable": true,
    "editable": true
   },
   "outputs": [
    {
     "name": "stdout",
     "output_type": "stream",
     "text": [
      "0.73029674334\n",
      "[[ 0.73029674]]\n"
     ]
    }
   ],
   "source": [
    "from numpy.linalg import norm\n",
    "from numpy import dot, vdot\n",
    "from sklearn.metrics.pairwise import cosine_similarity\n",
    "\n",
    "\n",
    "print 1-cosine(vspace[0], vspace[1])\n",
    "dot(vspace[0], vspace[1])/(norm(vspace[0])* norm(vspace[1]))\n",
    "# val1 = vspace[0].reshape(1, -1)\n",
    "\n",
    "print cosine_similarity(np.array(vspace[0]).reshape(1,-1), np.array(vspace[1]).reshape(1,-1))"
   ]
  },
  {
   "cell_type": "markdown",
   "metadata": {
    "deletable": true,
    "editable": true
   },
   "source": [
    "### Serialize dictionaries into objects"
   ]
  },
  {
   "cell_type": "code",
   "execution_count": 48,
   "metadata": {
    "collapsed": false,
    "deletable": true,
    "editable": true
   },
   "outputs": [
    {
     "name": "stdout",
     "output_type": "stream",
     "text": [
      "Pickling File: GeneFile.txt\n",
      "Genes to Disease\n"
     ]
    }
   ],
   "source": [
    "import cPickle as pickle\n",
    "def picklize(func):\n",
    "    def inner(mydict, myfile):\n",
    "        print \"Pickling File: {0}\".format(myfile)\n",
    "        with open(myfile, 'wb') as handle:\n",
    "            pickle.dump(mydict, handle)   \n",
    "        return func(mydict,myfile)\n",
    "    return inner\n",
    "\n",
    "@picklize\n",
    "def geneToDisease(mydict, myfile):\n",
    "    print \"Genes to Disease\"\n",
    "    \n",
    "geneToDisease({'one':1, 'two':2}, \"GeneFile.txt\")"
   ]
  },
  {
   "cell_type": "code",
   "execution_count": 49,
   "metadata": {
    "collapsed": true,
    "deletable": true,
    "editable": true
   },
   "outputs": [],
   "source": [
    "# Use a decorator to build vectors from the list\n",
    "def build_vector(func):\n",
    "    def inner(lsOne, lsTwo):\n",
    "        counter1 = Counter(lsOne)\n",
    "        counter2 = Counter(lsTwo)\n",
    "        all_items = set(counter1.keys()).union(set(counter2.keys()))\n",
    "        vector1 = np.array([counter1[k] for k in all_items]).reshape(1,-1)\n",
    "        vector2 = np.array([counter2[k] for k in all_items]).reshape(1,-1)\n",
    "        return func(vector1, vector2)\n",
    "    return  inner\n",
    "        "
   ]
  },
  {
   "cell_type": "code",
   "execution_count": 50,
   "metadata": {
    "collapsed": false,
    "deletable": true,
    "editable": true
   },
   "outputs": [
    {
     "name": "stdout",
     "output_type": "stream",
     "text": [
      "[ 0.73029674]\n"
     ]
    }
   ],
   "source": [
    "@build_vector\n",
    "def hpo_similarity(ls1, ls2):\n",
    "    return cosine_similarity(ls1, ls2)\n",
    "\n",
    "print hpo_similarity(l1, l2)[0]"
   ]
  },
  {
   "cell_type": "code",
   "execution_count": 64,
   "metadata": {
    "collapsed": false,
    "deletable": true,
    "editable": true
   },
   "outputs": [
    {
     "name": "stdout",
     "output_type": "stream",
     "text": [
      "[ 0.          0.          0.          0.          0.          0.          0.\n",
      "  0.          0.          0.          0.          0.          0.          0.\n",
      "  0.          0.          0.          0.          0.          0.          0.\n",
      "  0.          0.          0.57735027  0.          0.          0.          0.\n",
      "  0.5         0.          0.          0.28347335  0.25        0.28867513\n",
      "  0.          0.          0.          0.          0.35355339  0.5         0.\n",
      "  0.          0.          0.          0.          0.          0.          0.\n",
      "  0.          0.          0.          0.          0.          0.          0.\n",
      "  0.          0.          0.          0.          0.          0.          0.\n",
      "  0.          0.          0.          0.57735027  0.          0.57735027\n",
      "  0.          0.57735027  0.21821789  0.28867513  0.33333333  0.          0.\n",
      "  0.          0.          0.40824829  0.          0.          0.          0.\n",
      "  0.          0.          0.          0.          0.          0.          0.\n",
      "  0.          0.          0.          0.          0.          0.70710678\n",
      "  0.          0.          0.          0.          0.          0.          0.\n",
      "  0.          0.          0.          0.          0.          0.          0.\n",
      "  0.          0.          0.          0.          0.          0.          0.\n",
      "  0.          0.          0.          0.          1.          0.          0.\n",
      "  0.          0.          0.          0.          0.          0.          0.\n",
      "  0.          0.          0.          0.          0.          0.\n",
      "  0.13363062  0.          0.81649658  0.          0.          0.70710678\n",
      "  0.          0.          0.          0.          0.          0.          0.\n",
      "  0.          0.18898224  0.          0.          0.          0.          0.\n",
      "  0.          0.          0.          0.          0.          0.          0.\n",
      "  0.          0.          0.          0.          0.          0.          0.\n",
      "  0.          0.          0.          0.          0.          0.          0.\n",
      "  0.          0.          0.          0.          0.          0.          0.\n",
      "  0.          0.          0.          0.28347335  0.21821789  0.          0.\n",
      "  0.18898224  0.          0.13363062  0.          0.          0.18898224\n",
      "  0.06299408  0.28867513  0.          0.          0.          0.\n",
      "  0.35355339  0.          0.          0.          0.          0.          0.\n",
      "  0.57735027  0.          0.40824829  0.          0.          0.          0.\n",
      "  0.42640143  0.          0.          0.          0.          0.          0.\n",
      "  0.          0.          0.          0.          0.          0.          0.\n",
      "  0.          0.          0.          0.          0.          0.          0.\n",
      "  0.          0.          0.          0.          0.          0.          0.\n",
      "  0.          0.          0.          0.          0.          0.          0.\n",
      "  0.        ]\n"
     ]
    }
   ],
   "source": [
    "# dictG\n",
    "\n",
    "phen_pairs = combinations(dictG.keys(), 2)\n",
    "\n",
    "# list(phen_pairs)\n",
    "sims=[hpo_similarity(dictG[i[0]], dictG[i[1]]) for i in phen_pairs]\n",
    "\n",
    "print  np.asarray(sims, dtype=np.float).reshape(1,-1)[0]"
   ]
  },
  {
   "cell_type": "code",
   "execution_count": 70,
   "metadata": {
    "collapsed": false,
    "deletable": true,
    "editable": true
   },
   "outputs": [],
   "source": [
    "p=combinations(dictPhen.keys(),)"
   ]
  },
  {
   "cell_type": "code",
   "execution_count": null,
   "metadata": {
    "collapsed": false,
    "deletable": true,
    "editable": true
   },
   "outputs": [],
   "source": [
    "print "
   ]
  },
  {
   "cell_type": "markdown",
   "metadata": {
    "deletable": true,
    "editable": true
   },
   "source": [
    "### Create Similarity matrices of diseases based on phenotypes"
   ]
  },
  {
   "cell_type": "markdown",
   "metadata": {
    "deletable": true,
    "editable": true
   },
   "source": [
    "### Create Similarity matrices of diseases based on genes"
   ]
  },
  {
   "cell_type": "markdown",
   "metadata": {
    "deletable": true,
    "editable": true
   },
   "source": [
    "### Create Similarity matrices of genes based on phenotypes"
   ]
  }
 ],
 "metadata": {
  "kernelspec": {
   "display_name": "Python 2",
   "language": "python",
   "name": "python2"
  },
  "language_info": {
   "codemirror_mode": {
    "name": "ipython",
    "version": 2
   },
   "file_extension": ".py",
   "mimetype": "text/x-python",
   "name": "python",
   "nbconvert_exporter": "python",
   "pygments_lexer": "ipython2",
   "version": "2.7.12"
  }
 },
 "nbformat": 4,
 "nbformat_minor": 2
}
